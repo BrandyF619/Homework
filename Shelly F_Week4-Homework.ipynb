{
 "cells": [
  {
   "cell_type": "code",
   "execution_count": 2,
   "id": "030821bf",
   "metadata": {},
   "outputs": [
    {
     "name": "stdout",
     "output_type": "stream",
     "text": [
      "Renting a car is very expensive\n"
     ]
    }
   ],
   "source": [
    " #Create If Statement for \"rental age\"\n",
    "    \n",
    "input(\"How old are you?\")\n",
    "\n",
    "age = int(0 - 99)\n",
    "\n",
    "if age >= 25:\n",
    "  print(\"Renting a car is more affordable\")\n",
    "else: \n",
    "  print(\"Renting a car is very expensive\")\n",
    "\n"
   ]
  },
  {
   "cell_type": "code",
   "execution_count": 7,
   "id": "276832b8",
   "metadata": {},
   "outputs": [
    {
     "name": "stdout",
     "output_type": "stream",
     "text": [
      "Renting a car is illegal\n"
     ]
    }
   ],
   "source": [
    "#Create/Chain an if-else statement:\n",
    "    \n",
    "input(\"What's your age\")\n",
    "\n",
    "age = int(0-99)\n",
    "\n",
    "if age >= 25:\n",
    "  print(\"Renting a car is more affordable\")   \n",
    "elif 24 <= 19:\n",
    "  print(\"Renting a car is very expensive\")\n",
    "else: 18 <= 0 \n",
    "print(\"Renting a car is illegal\")"
   ]
  },
  {
   "attachments": {},
   "cell_type": "markdown",
   "id": "49b0c8b5",
   "metadata": {},
   "source": []
  },
  {
   "cell_type": "code",
   "execution_count": 24,
   "id": "08585300",
   "metadata": {},
   "outputs": [
    {
     "name": "stdout",
     "output_type": "stream",
     "text": [
      "The string length is... 43\n",
      "e\n",
      "u\n",
      "i\n",
      "o\n",
      "o\n",
      "u\n",
      "o\n",
      "e\n",
      "e\n",
      "a\n",
      "o\n"
     ]
    }
   ],
   "source": [
    "## Loop over the following string\n",
    "\n",
    "# (1) count all the characters in the string \n",
    "\"The quick brown fox jumps over the lazy dog\"\n",
    "a = str(\"The quick brown fox jumps over the lazy dog\")\n",
    "print(\"The string length is...\", len(a))\n",
    "\n",
    "\n",
    "# (2) print out all the vowels -- \n",
    "b = \"The quick brown fox jumps over the lazy dog\"\n",
    "a = \"aeiou\"\n",
    "\n",
    "for letters in b:\n",
    "    if letters in a: \n",
    "        print(letters)\n",
    " "
   ]
  },
  {
   "cell_type": "code",
   "execution_count": 25,
   "id": "713c3a57",
   "metadata": {},
   "outputs": [
    {
     "name": "stdout",
     "output_type": "stream",
     "text": [
      "banana\n"
     ]
    }
   ],
   "source": [
    "# 6. Print the second item in this fruits list.\n",
    " \n",
    "list = [\"apple\", \"banana\", \"cherry\"]\n",
    "print(list[1])\n",
    "    \n"
   ]
  },
  {
   "cell_type": "code",
   "execution_count": 26,
   "id": "c3805328",
   "metadata": {},
   "outputs": [
    {
     "name": "stdout",
     "output_type": "stream",
     "text": [
      "['kiwi', 'banana', 'cherry']\n"
     ]
    }
   ],
   "source": [
    "# 7. Change the value from \"apple\" to \"kiwi\", in the fruits list.\n",
    "list = [\"apple\", \"banana\", \"cherry\"]\n",
    "list[0] = \"kiwi\"\n",
    "print(list)"
   ]
  },
  {
   "cell_type": "code",
   "execution_count": 27,
   "id": "a7235701",
   "metadata": {},
   "outputs": [
    {
     "name": "stdout",
     "output_type": "stream",
     "text": [
      "['apple', 'banana', 'cherry', 'orange']\n"
     ]
    }
   ],
   "source": [
    "# Use the append method to add \"orange\" to the fruits list.\n",
    "list =  [\"apple\", \"banana\", \"cherry\"]\n",
    "list.append(\"orange\")\n",
    "print(list)"
   ]
  },
  {
   "cell_type": "code",
   "execution_count": 28,
   "id": "1803a927",
   "metadata": {},
   "outputs": [
    {
     "name": "stdout",
     "output_type": "stream",
     "text": [
      "['apple', 'Lemon', 'banana', 'cherry']\n"
     ]
    }
   ],
   "source": [
    "#  Use the insert method to add \"lemon\" as the second item in the fruits list.\n",
    "list = [\"apple\", \"banana\", \"cherry\"]\n",
    "\n",
    "list.insert(1, \"Lemon\")\n",
    "print(list)"
   ]
  },
  {
   "cell_type": "code",
   "execution_count": 29,
   "id": "52183c6b",
   "metadata": {},
   "outputs": [
    {
     "name": "stdout",
     "output_type": "stream",
     "text": [
      "['apple', 'cherry']\n"
     ]
    }
   ],
   "source": [
    "# 10. Use the remove method to remove \"banana\" from the fruits list.\n",
    "list = [\"apple\", \"banana\", \"cherry\"]\n",
    "list.remove(\"banana\")\n",
    "print(list)"
   ]
  },
  {
   "cell_type": "code",
   "execution_count": 30,
   "id": "e8692e2b",
   "metadata": {},
   "outputs": [
    {
     "name": "stdout",
     "output_type": "stream",
     "text": [
      "kiwi\n",
      "melon\n"
     ]
    }
   ],
   "source": [
    "# Use negative indexing to print the 3rd and 2nd to last items in the list.\n",
    "List = \"apple\", \"banana\", \"cherry\", \"orange\", \"kiwi\", \"melon\", \"mango\"\n",
    "\n",
    "print(List[-3])\n",
    "print(List[-2])"
   ]
  },
  {
   "cell_type": "code",
   "execution_count": 40,
   "id": "1225c1ab",
   "metadata": {},
   "outputs": [
    {
     "name": "stdout",
     "output_type": "stream",
     "text": [
      "orange\n",
      "kiwi\n",
      "melon\n"
     ]
    }
   ],
   "source": [
    "# 12. Use a range of indexes to print:\n",
    "# third, fourth, and fifth item in the list.\n",
    "    \n",
    "    \n",
    "list = [\"apple\", \"banana\", \"cherry\", \"orange\", \"kiwi\", \"melon\", \"mango\"]\n",
    "\n",
    "for fruit in range(1):\n",
    "    print(list[3])\n",
    "    print(list[4])\n",
    "    print(list[5])\n",
    "  \n"
   ]
  },
  {
   "cell_type": "code",
   "execution_count": 41,
   "id": "0b708277",
   "metadata": {},
   "outputs": [
    {
     "name": "stdout",
     "output_type": "stream",
     "text": [
      "7\n"
     ]
    }
   ],
   "source": [
    "# Use the correct syntax to print the number of items in the \n",
    "\n",
    "list = [\"apple\", \"banana\", \"cherry\", \"orange\", \"kiwi\", \"melon\", \"mango\"]\n",
    "size = len(list)\n",
    "print(size)\n",
    "\n",
    "\n"
   ]
  },
  {
   "cell_type": "code",
   "execution_count": 42,
   "id": "9ecf7203",
   "metadata": {},
   "outputs": [
    {
     "name": "stdout",
     "output_type": "stream",
     "text": [
      "The list has been reverse sorted ['orange', 'melon', 'mango', 'kiwi', 'cherry', 'banana', 'apple']\n"
     ]
    }
   ],
   "source": [
    "# Use the correct syntax to sort this list in reverse order\n",
    "list = [\"apple\", \"banana\", \"cherry\", \"orange\", \"kiwi\", \"melon\", \"mango\"]\n",
    "list.sort(reverse=True)\n",
    "print(\"The list has been reverse sorted\", list)"
   ]
  },
  {
   "cell_type": "code",
   "execution_count": 43,
   "id": "0b078b81",
   "metadata": {},
   "outputs": [
    {
     "name": "stdout",
     "output_type": "stream",
     "text": [
      "trousers gunmetal blue\n",
      "trousers cerise\n",
      "trousers aqua\n",
      "trousers maple\n",
      "trousers burnt sienna\n",
      "trousers auburn\n",
      "trousers Dark Sapphire\n",
      "trousers fuchsia\n",
      "blouse gunmetal blue\n",
      "blouse cerise\n",
      "blouse aqua\n",
      "blouse maple\n",
      "blouse burnt sienna\n",
      "blouse auburn\n",
      "blouse Dark Sapphire\n",
      "blouse fuchsia\n",
      "bandana gunmetal blue\n",
      "bandana cerise\n",
      "bandana aqua\n",
      "bandana maple\n",
      "bandana burnt sienna\n",
      "bandana auburn\n",
      "bandana Dark Sapphire\n",
      "bandana fuchsia\n",
      "cumber band gunmetal blue\n",
      "cumber band cerise\n",
      "cumber band aqua\n",
      "cumber band maple\n",
      "cumber band burnt sienna\n",
      "cumber band auburn\n",
      "cumber band Dark Sapphire\n",
      "cumber band fuchsia\n",
      "blazer gunmetal blue\n",
      "blazer cerise\n",
      "blazer aqua\n",
      "blazer maple\n",
      "blazer burnt sienna\n",
      "blazer auburn\n",
      "blazer Dark Sapphire\n",
      "blazer fuchsia\n",
      "vest gunmetal blue\n",
      "vest cerise\n",
      "vest aqua\n",
      "vest maple\n",
      "vest burnt sienna\n",
      "vest auburn\n",
      "vest Dark Sapphire\n",
      "vest fuchsia\n",
      "french beret gunmetal blue\n",
      "french beret cerise\n",
      "french beret aqua\n",
      "french beret maple\n",
      "french beret burnt sienna\n",
      "french beret auburn\n",
      "french beret Dark Sapphire\n",
      "french beret fuchsia\n",
      "scarf gunmetal blue\n",
      "scarf cerise\n",
      "scarf aqua\n",
      "scarf maple\n",
      "scarf burnt sienna\n",
      "scarf auburn\n",
      "scarf Dark Sapphire\n",
      "scarf fuchsia\n",
      "stole gunmetal blue\n",
      "stole cerise\n",
      "stole aqua\n",
      "stole maple\n",
      "stole burnt sienna\n",
      "stole auburn\n",
      "stole Dark Sapphire\n",
      "stole fuchsia\n"
     ]
    }
   ],
   "source": [
    "# 4. Write a nested loop that prints out every piece of clothing from \n",
    "# the `couture` list, \n",
    "# in every fashionable color from the panettone set\n",
    "\n",
    "x = [\"trousers\", \"blouse\", \"bandana\", \"cumber band\", \"blazer\", \"vest\", \"french beret\", \"scarf\", \"stole\"]\n",
    "y = {\"cerise\", \"fuchsia\", \"aqua\", \"maple\", \"auburn\", \"burnt sienna\", \"gunmetal blue\", \"Dark Sapphire\"}\n",
    "for c in x:\n",
    "        for d in y:\n",
    "            print(c,d)\n",
    "\n",
    "\n",
    "    \n",
    "    "
   ]
  },
  {
   "cell_type": "code",
   "execution_count": 44,
   "id": "c802fa1f",
   "metadata": {},
   "outputs": [
    {
     "name": "stdout",
     "output_type": "stream",
     "text": [
      "5050\n"
     ]
    }
   ],
   "source": [
    "# 5. Use range as a loop to calculate the sum of all the numbers from 1 to 100:\n",
    "    \n",
    "sum = 0 \n",
    "for i in range(1,101): \n",
    "    sum += i \n",
    "print(sum) "
   ]
  },
  {
   "cell_type": "code",
   "execution_count": 45,
   "id": "53da56ea",
   "metadata": {},
   "outputs": [
    {
     "data": {
      "text/plain": [
       "datetime.datetime(2023, 5, 25, 14, 12, 39, 472768)"
      ]
     },
     "execution_count": 45,
     "metadata": {},
     "output_type": "execute_result"
    }
   ],
   "source": [
    "# # 1. Use the DateTime module to get Current Date and Time,save it to a variable. \n",
    "\n",
    "import datetime\n",
    "T = datetime.datetime.now()\n",
    "(T)\n",
    "\n"
   ]
  },
  {
   "cell_type": "code",
   "execution_count": 46,
   "id": "9c8863ad",
   "metadata": {},
   "outputs": [
    {
     "name": "stdout",
     "output_type": "stream",
     "text": [
      "current month: May\n"
     ]
    }
   ],
   "source": [
    "# extract just the Full month name form that variable.\n",
    "# T = datetime.datetime.now()\n",
    "\n",
    "import datetime\n",
    "M = datetime.datetime.now()\n",
    "print(\"current month:\", M.strftime(\"%B\"))"
   ]
  },
  {
   "cell_type": "code",
   "execution_count": 47,
   "id": "a310475a",
   "metadata": {},
   "outputs": [
    {
     "name": "stdout",
     "output_type": "stream",
     "text": [
      "Thank You!\n"
     ]
    }
   ],
   "source": [
    "# Write a simple function that takes 2 parameters -- \n",
    "\n",
    "input(\"Hi what is today?\")\n",
    "print(\"Thank You!\")\n"
   ]
  },
  {
   "cell_type": "code",
   "execution_count": 49,
   "id": "db643f8f",
   "metadata": {},
   "outputs": [
    {
     "name": "stdout",
     "output_type": "stream",
     "text": [
      "Hi.. Brandy\n",
      "happy.. Sunday\n"
     ]
    }
   ],
   "source": [
    "\n",
    "#  first name and a day name.\n",
    "# - Set a default value for the day name of Sunday.\n",
    "# remember to use the variables in the greeting to replace first-name and day-name. \n",
    "\n",
    "name = \"Brandy\"\n",
    "day = \"Sunday\"\n",
    "\n",
    "# Have the function print out a greeting -- \n",
    "# something like \"Hi first-name! Happy day-name!\"\n",
    "\n",
    "print(\"Hi..\", name)\n",
    "print(\"happy..\", day)\n",
    "\n"
   ]
  },
  {
   "cell_type": "code",
   "execution_count": 50,
   "id": "6df50a74",
   "metadata": {},
   "outputs": [
    {
     "name": "stdout",
     "output_type": "stream",
     "text": [
      "Brandy What was yesterday?  Sunday\n",
      "I enjoy Sunday\n"
     ]
    }
   ],
   "source": [
    "# - Invoke this function with 2 variables.\n",
    "\n",
    "a = \"Brandy\"\n",
    "b = \"Sunday\"\n",
    "print(a,\"What was yesterday? \", b)\n",
    "\n",
    "\n",
    "# - Invoke this function with 1 variable only.\n",
    "print(\"I enjoy\", b)"
   ]
  },
  {
   "cell_type": "code",
   "execution_count": 57,
   "id": "82f8d5ee",
   "metadata": {},
   "outputs": [
    {
     "name": "stdout",
     "output_type": "stream",
     "text": [
      "your good!\n"
     ]
    }
   ],
   "source": [
    "# . Write a block of code to handle one of the most common Python exception errors. Select one of the common errors from the curriculum section on Python Exception handling. Have your code example uses the `try`,`except`, `else`, and `finally` components.\n",
    "\n",
    "\n",
    "while True:\n",
    "    try:\n",
    "        x = (input(\"Please enter birth year: \"))\n",
    "        break\n",
    "    except:\n",
    "        print(\"Oops!  That was no valid number.  Try again...\")\n",
    "    else:\n",
    "        print(\"Something else went wrong\") \n",
    "    finally:\n",
    "        print(\"your good!\")   \n",
    "\n",
    "\n",
    "\n",
    "\n",
    "\n",
    "\n",
    "\n"
   ]
  },
  {
   "attachments": {},
   "cell_type": "markdown",
   "id": "d8c35f8a",
   "metadata": {},
   "source": [
    "#### **Please Answer These Questions:**\n",
    "\n",
    "<br>\n",
    "\n",
    "**<ins>Use a MarkDown file for this section</ins>**:\n",
    "\n",
    "1. What does one need to do to use a module?\n",
    "use the import keyword along with the desired module name.  \n",
    "\n",
    "Name a Module (not the DateTime Nodule) we looked at and write a line or 2 of code as an example using this module.\n",
    "import math\n",
    "\n",
    "import math\n",
    "print(\"Round Up....\", mathceil(2.5))\n",
    "\n",
    "1. What is a benefit of using Exception handling?\n",
    "Exception handling allows you to separate error-handling code from normal code\n",
    "\n",
    "1. what are the 4 components used for Python Exception Handling?\n",
    "try, except, while, finally\n",
    "\n",
    "1. NumPy arrays are like what Python data type?\n",
    "Lists\n",
    "\n",
    "1. What is one of the main benefits of using NumPy arrays?\n",
    "Numpy arrays are faster than liss\n",
    "\n",
    "1. What is one of the main requirements about the 'dtype' of NumPy arrays?\n",
    "name and format are required\n",
    "\n",
    "1. Of the 10 uses of NumPy, name 2.\n",
    "create range of elements\n",
    "create an array of Zero's and 1's\n",
    "\n",
    "1. Name one of the other libraries we'll use with NumPy? 
    "Pandas",
    "\n",
    "\n",
    "What is the shape of NumPy arrays?\n",
    "a tuple",
    
    "\n",
    "10. What is a Tensor?\n",
    "multi-dimensional data container, it must be a list of lists\n",
    "2 or 3 dimensions",
    "\n",
    "1. Name a reason why it's better using  NumPy for Data Analysis than using a Python List?\n",
    "Numpys are faster and more compact\n",
    "\n",
    "1. When creating an \"empty\" array, where do the elements come from?\n",
    "The function `empty` creates an array whose initial content is random and depends on the state of the memory"
   ]
  },
  {
   "cell_type": "code",
   "execution_count": null,
   "id": "322df542",
   "metadata": {},
   "outputs": [],
   "source": []
  }
 ],
 "metadata": {
  "kernelspec": {
   "display_name": "Python 3 (ipykernel)",
   "language": "python",
   "name": "python3"
  },
  "language_info": {
   "codemirror_mode": {
    "name": "ipython",
    "version": 3
   },
   "file_extension": ".py",
   "mimetype": "text/x-python",
   "name": "python",
   "nbconvert_exporter": "python",
   "pygments_lexer": "ipython3",
   "version": "3.11.3"
  }
 },
 "nbformat": 4,
 "nbformat_minor": 5
}
