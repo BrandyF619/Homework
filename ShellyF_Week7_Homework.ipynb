{
 "cells": [
  {
   "attachments": {},
   "cell_type": "markdown",
   "metadata": {},
   "source": [
    "<!-- 1. Using EVregistry, Write a query to select the `ModelYear`, `Make`, and `Model` off all of the vehicles in the registry. -->\n",
    "\n",
    "SELECT ModelYear, Make, Model\n",
    "from EVRegistry"
   ]
  },
  {
   "attachments": {},
   "cell_type": "markdown",
   "metadata": {},
   "source": [
    "<!-- 2. Using the EVRegistry table, Write a query that lists all of the unique types of EV's. your reult set should have one column, `ElectricVehicleType`.  -->\n",
    "select distinct ElectricVehicleType\n",
    "from SavvyCoders_SQL_evRegistry"
   ]
  },
  {
   "attachments": {},
   "cell_type": "markdown",
   "metadata": {},
   "source": [
    "<!-- 3. Using the EVRegistry, Write a query that shows all of the information on Battery Electric Vehicles (BEV) that are in the registry.  -->\n",
    "\n",
    "select * \n",
    "from SavvyCoders_SQL_evRegistry\n",
    "where ElectricVehicleType LIKE '%bev%'"
   ]
  },
  {
   "attachments": {},
   "cell_type": "markdown",
   "metadata": {},
   "source": [
    "<!-- 4. Using the EVRegistry, wirte a query that returns the `Make` and `Model` of all of the EV's that have a BaseMSRP between 20000 and 35000?   -->\n",
    "\n",
    "select Make, Model, BaseMSRP\n",
    "from SavvyCoders_SQL_evRegistry\n",
    "where BaseMSRP like 20000<>35000;"
   ]
  },
  {
   "cell_type": "code",
   "execution_count": null,
   "metadata": {
    "vscode": {
     "languageId": "plaintext"
    }
   },
   "outputs": [],
   "source": [
    "SECTION 7.2"
   ]
  },
  {
   "attachments": {},
   "cell_type": "markdown",
   "metadata": {},
   "source": [
    "<!-- 1. Using EVRegistry, write a query to find a record  where the `City` attribute is NULL. Return all of the available columns.  -->\n",
    "\n",
    "select *\n",
    "from SavvyCoders_SQL_evRegistry\n",
    "where City is null;"
   ]
  },
  {
   "attachments": {},
   "cell_type": "markdown",
   "metadata": {},
   "source": [
    "<!-- 2. Write a query to find the `make`, `model`, and `ElectricVehicleType` where the VIN number has  that ends in '3E1EA1J'. -->\n",
    "SELECT Make, \n",
    "Model, \n",
    "ElectricVehicleType\n",
    "FROM SavvyCoders_SQL_evRegistry\n",
    "WHERE VIN like \"%3E1EA1J\""
   ]
  },
  {
   "attachments": {},
   "cell_type": "markdown",
   "metadata": {},
   "source": [
    "<!-- 3 Select the `ModelYear`, `make`, `model`, `ElectricVehicleType`, and `range` of the Tesla vehicles or cheverolet vehicles in the registry. Order the result set by Make and Model year in from newest to oldest. -->\n",
    "\n",
    "SELECT ModelYear,\n",
    "Make,\n",
    "Model,\n",
    "ElectricVehicleType,\n",
    "ElectricRange\n",
    "FROM SavvyCoders_SQL_evRegistry\n",
    "WHERE Make like 'Tesla' or Make like  'Chevrolet'  \t\t\n",
    "ORDER by 2,3 DESC"
   ]
  },
  {
   "attachments": {},
   "cell_type": "markdown",
   "metadata": {},
   "source": [
    "<!-- 4. Using EVCharging, Write a query to find out how many many times those stations were used. Order them by the most used to the least used and limit the output to 5 records. -->\n",
    "\n",
    "SELECT stationId, count(stationId)as userct\n",
    "FROM EVCharging\n",
    "GROUP by 1\n",
    "order by 2 DESC\n",
    "LIMIT 5;"
   ]
  },
  {
   "attachments": {},
   "cell_type": "markdown",
   "metadata": {},
   "source": [
    "<!-- . 5 Using EVCharging, For the folks who charged longer than 0.5 hours, show the min and max of the charging time for each user. Your output columns should be `userid`, `minTime`, and `maxTime`. Order this result set by the last two columns respectively. -->\n",
    "\n",
    "SELECT userId, \n",
    "min(chargeTimeHrs) as min_Time,\n",
    "max(chargeTimeHrs) as max_Time\n",
    "FROM EVCharging\n",
    "group by 1\n",
    "HAVING minTime > .5\n",
    "order by 2,3;"
   ]
  },
  {
   "cell_type": "code",
   "execution_count": null,
   "metadata": {
    "vscode": {
     "languageId": "plaintext"
    }
   },
   "outputs": [],
   "source": [
    "\n",
    "# 7.3 HW Questions"
   ]
  },
  {
   "attachments": {},
   "cell_type": "markdown",
   "metadata": {},
   "source": [
    "<!-- 1. Using EVCharging, Which day of the week has the highest average charging time? Round the answer to 2 decimal points. -->\n",
    "\n",
    "\n",
    "SELECT\n",
    "weekday, round(avg(chargeTimeHrs),2) as AvgChgTime\n",
    "FROM EVCharging\n",
    "GROUP BY 1\n",
    "ORDER BY 2 DESC"
   ]
  },
  {
   "attachments": {},
   "cell_type": "markdown",
   "metadata": {},
   "source": [
    "<!-- 2. Using, EV charging, Find the total power consumed from charging EV's by each User. Return the `userId` and name the calculated column, `totalPower`. Round the answer to 2 deciaml points and list the out put in highest to lowest order. Limit the order to the top 15 users. -->\n",
    "\n",
    "SELECT\n",
    "userId,\n",
    "round(sum(kwhTotal),2) as TotalPwr\n",
    "FROM EVCharging\n",
    "GROUP BY userId\n",
    "ORDER BY 2 DESC\n",
    "LIMIT 15;"
   ]
  },
  {
   "attachments": {},
   "cell_type": "markdown",
   "metadata": {},
   "source": [
    "3. Using dimfacility and factCharge, write a query to find out which type of facility (GROUP BY) has the most amount of charging stations. Return `type Facility` and name the calculated column `numStation`. Order the result set from highest to lowest number of charging stations.\n",
    "\n",
    "\n",
    "SELECT \n",
    "df.FacilityKey,\tdf.typeFacility,count(DISTINCT fc.stationId) as 'numStations'\n",
    "FROM dimFacility df\n",
    "INNER JOIN factCharge fc\n",
    "on df.FacilityKey = fc. facilityID\n",
    "group by df.FacilityKey\n",
    "order by 3 DESC"
   ]
  },
  {
   "attachments": {},
   "cell_type": "markdown",
   "metadata": {},
   "source": [
    "4. In your own words, Briefly explain Primary Keys and Foreign Keys. \n",
    "\n",
    "Primary keys are unique identifiers for each row in a table that is stored in the main database/table. Foreign key is data that can be used to reference information in other tables that can be linked to the primary keys."
   ]
  },
  {
   "attachments": {},
   "cell_type": "markdown",
   "metadata": {},
   "source": [
    "<!-- 5. Using EV Charging, For the folks who charged longer than one hour, show the min and max of the charging time for each user. Your output columns should be `userid`, `minTime`, and `maxTime`. Order this result set by the last two columns respectively. HINT: USE `HAVING` -->\n",
    "\n",
    "SELECT\n",
    "USERID,\n",
    "min(chargeTimeHrs) as minTime,\n",
    "max(chargeTimeHrs) as maxTime\n",
    "FROM EVCharging\n",
    "GROUP BY 1\n",
    "HAVING chargeTimeHrs > 1\n",
    "ORDER BY 2, 3 DESC;"
   ]
  }
 ],
 "metadata": {
  "language_info": {
   "name": "python"
  },
  "orig_nbformat": 4
 },
 "nbformat": 4,
 "nbformat_minor": 2
}
