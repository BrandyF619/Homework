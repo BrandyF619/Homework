{
 "cells": [
  {
   "cell_type": "code",
   "execution_count": 5,
   "metadata": {},
   "outputs": [
    {
     "name": "stdout",
     "output_type": "stream",
     "text": [
      "No. of vowels : 6\n"
     ]
    }
   ],
   "source": [
    "str = \"TeamExercise\"\n",
    "\n",
    "\n",
    "\n",
    "def vowel_count(str):\n",
    "     \n",
    "\n",
    "    count = 0\n",
    "\n",
    "    vowel = set(\"aeiouAEIOU\")\n",
    "     \n",
    "\n",
    "    for alphabet in str:\n",
    "\n",
    "        if alphabet in vowel:\n",
    "            count = count + 1\n",
    "     \n",
    "    print(\"No. of vowels :\", count)\n",
    "     \n",
    "\n",
    "\n",
    "vowel_count(str)"
   ]
  },
  {
   "cell_type": "code",
   "execution_count": 25,
   "metadata": {},
   "outputs": [],
   "source": [
    "import pandas as pd\n",
    "import numpy as np  \n",
    "\n",
    "me = int(input(\"whats your fave?\"))\n",
    "o =  range(2,56)\n",
    "def multiply(me):\n",
    "    if sum  == o:\n",
    "        print(\"You win\", me)\n",
    "    elif sum  >= o:\n",
    "        print(\"You lose\", me)"
   ]
  },
  {
   "cell_type": "code",
   "execution_count": 35,
   "metadata": {},
   "outputs": [
    {
     "name": "stdout",
     "output_type": "stream",
     "text": [
      "Print new array [10 11 12 13 14 15 16 17 20 21 22 23 24 25 26 27  0  1  2  3  4  5  6  7]\n",
      "[20 22 24 26  0  2  4  6]\n",
      "[10 15 22 27  4]\n"
     ]
    }
   ],
   "source": [
    "import numpy as np \n",
    "\n",
    "one = ([10, 11, 12, 13, 14, 15, 16, 17])\n",
    "two = ([20, 21, 22, 23, 24, 25, 26, 27])\n",
    "three = ([ 0, 1, 2, 3, 4, 5, 6, 7])\n",
    "        \n",
    "comboArray = np.concatenate((one, two, three))\n",
    "print(\"Print new array\", comboArray)\n",
    "\n",
    "\n",
    "print(comboArray[-16::2])\n",
    "\n",
    "print(comboArray[:-1:5])"
   ]
  }
 ],
 "metadata": {
  "kernelspec": {
   "display_name": "Python 3",
   "language": "python",
   "name": "python3"
  },
  "language_info": {
   "codemirror_mode": {
    "name": "ipython",
    "version": 3
   },
   "file_extension": ".py",
   "mimetype": "text/x-python",
   "name": "python",
   "nbconvert_exporter": "python",
   "pygments_lexer": "ipython3",
   "version": "3.11.3"
  },
  "orig_nbformat": 4
 },
 "nbformat": 4,
 "nbformat_minor": 2
}
