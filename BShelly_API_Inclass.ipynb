{
 "cells": [
  {
   "cell_type": "code",
   "execution_count": 6,
   "metadata": {},
   "outputs": [
    {
     "name": "stdout",
     "output_type": "stream",
     "text": [
      "None\n"
     ]
    }
   ],
   "source": [
    "# API KEY REQUEST \n",
    "\n",
    "from dotenv import load_dotenv\n",
    "import os\n",
    "\n",
    "API_KEY = 'ff7372eb1819b85274c31f6e87a2f79c'\n",
    "\n",
    "\n",
    "# Load environment variables from .env file\n",
    "load_dotenv('API_KEY')\n",
    "\n",
    "# Get the API key from environment variables\n",
    "api_key = os.getenv('API_KEY')\n",
    "\n",
    "# Print the API key\n",
    "print(api_key)\n",
    "import requests\n",
    "from dotenv import load_dotenv\n",
    "import pandas as pd\n",
    "import json\n",
    "from dotenv import load_dotenv\n",
    "import os\n",
    "\n"
   ]
  },
  {
   "cell_type": "code",
   "execution_count": 8,
   "metadata": {},
   "outputs": [
    {
     "name": "stdout",
     "output_type": "stream",
     "text": [
      "{'coord': {'lon': -90.2544, 'lat': 38.6445}, 'weather': [{'id': 800, 'main': 'Clear', 'description': 'clear sky', 'icon': '01n'}], 'base': 'stations', 'main': {'temp': 293.34, 'feels_like': 293.29, 'temp_min': 290.31, 'temp_max': 295.2, 'pressure': 1009, 'humidity': 72}, 'visibility': 10000, 'wind': {'speed': 1.54, 'deg': 10}, 'clouds': {'all': 0}, 'dt': 1686193377, 'sys': {'type': 2, 'id': 2009674, 'country': 'US', 'sunrise': 1686134204, 'sunset': 1686187395}, 'timezone': -18000, 'id': 0, 'name': 'Saint Louis', 'cod': 200}\n"
     ]
    }
   ],
   "source": [
    "# API KEY REQUEST \n",
    "\n",
    "#NO ERROR\n",
    "\n",
    "requests.get('https://api.openweathermap.org/data/2.5/weather?zip=63108,US&appid=ff7372eb1819b85274c31f6e87a2f79c')\n",
    "# https://openweathermap.org/city/4239714\n",
    "\n",
    "import requests\n",
    "\n",
    "try:\n",
    "    # Send a GET request to the API\n",
    "    response = requests.get('https://api.openweathermap.org/data/2.5/weather?zip=63108,US&appid=ff7372eb1819b85274c31f6e87a2f79c')\n",
    "    # Check the response status code\n",
    "    if response.status_code == 200:\n",
    "        # Request was successful, proceed with parsing the response\n",
    "        data = response.json()\n",
    "        # Process the data \n",
    "        print(data)\n",
    "    else:\n",
    "        # Request failed, handle the error\n",
    "        print(f\"Request failed with status code {response.status_code}\")\n",
    "except requests.exceptions.RequestException as e:\n",
    "    # Handle connection errors\n",
    "    print(\"Connection error occurred:\", e)"
   ]
  },
  {
   "cell_type": "code",
   "execution_count": 9,
   "metadata": {},
   "outputs": [
    {
     "name": "stdout",
     "output_type": "stream",
     "text": [
      "Request failed with status code 404\n"
     ]
    }
   ],
   "source": [
    "# API KEY REQUEST \n",
    "\n",
    "# ERROR\n",
    "\n",
    "requests.get('https://api.openweathermap.org/data/2.5/weather?zip=63108,US&appid=ff7372eb1819b85274c31f6e87a2f79c')\n",
    "# https://openweathermap.org/city/4239714\n",
    "\n",
    "import requests\n",
    "\n",
    "try:\n",
    "    # Send a GET request to the API\n",
    "    response = requests.get('https://api.openweathermap.org/data/2.5/weather?zip=63308,US&appid=ff7372eb1819b85274c31f6e87a2f79c')\n",
    "    # Check the response status code\n",
    "    if response.status_code == 200:\n",
    "        # Request was successful, proceed with parsing the response\n",
    "        data = response.json()\n",
    "        # Process the data \n",
    "        print(data)\n",
    "    else:\n",
    "        # Request failed, handle the error\n",
    "        print(f\"Request failed with status code {response.status_code}\")\n",
    "except requests.exceptions.RequestException as e:\n",
    "    # Handle connection errors\n",
    "    print(\"Connection error occurred:\", e)"
   ]
  }
 ],
 "metadata": {
  "kernelspec": {
   "display_name": "Python 3",
   "language": "python",
   "name": "python3"
  },
  "language_info": {
   "codemirror_mode": {
    "name": "ipython",
    "version": 3
   },
   "file_extension": ".py",
   "mimetype": "text/x-python",
   "name": "python",
   "nbconvert_exporter": "python",
   "pygments_lexer": "ipython3",
   "version": "3.11.3"
  },
  "orig_nbformat": 4
 },
 "nbformat": 4,
 "nbformat_minor": 2
}
