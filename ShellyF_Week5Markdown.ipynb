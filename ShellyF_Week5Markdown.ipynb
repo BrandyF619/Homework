{
 "cells": [
  {
   "attachments": {},
   "cell_type": "markdown",
   "metadata": {},
   "source": [
    "<!-- Use markdown formatting for the following questions:\n",
    "\n",
    "1. What does Pandas stand for?\n",
    "Python Data Analysis Library \n",
    "\n",
    "2. What are the 2 collections used in Pandas?\n",
    "Series and Data Frame\n",
    "\n",
    "3. Name 4 things Pandas can do for us.\n",
    "Data visualization, Statistical analysis, Data inspection, Loading and saving data\n",
    "\n",
    "4. To permanently sort a DataFrame, which keyword should one use with the `df.sort()` method?\n",
    "df.sort_values()\n",
    "\n",
    "5. What is a CSV?\n",
    "Comma Separated Values \n",
    "\n",
    "6. When cleaning data what values do we not like in our data -->\n",
    "unused and irrelevant columns"
   ]
  },
  {
   "cell_type": "code",
   "execution_count": null,
   "metadata": {},
   "outputs": [],
   "source": []
  }
 ],
 "metadata": {
  "kernelspec": {
   "display_name": "Python 3",
   "language": "python",
   "name": "python3"
  },
  "language_info": {
   "codemirror_mode": {
    "name": "ipython",
    "version": 3
   },
   "file_extension": ".py",
   "mimetype": "text/x-python",
   "name": "python",
   "nbconvert_exporter": "python",
   "pygments_lexer": "ipython3",
   "version": "3.11.3"
  },
  "orig_nbformat": 4
 },
 "nbformat": 4,
 "nbformat_minor": 2
}
