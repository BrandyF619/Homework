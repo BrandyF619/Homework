{
 "cells": [
  {
   "cell_type": "code",
   "execution_count": 13,
   "id": "e54899cc",
   "metadata": {},
   "outputs": [
    {
     "name": "stdout",
     "output_type": "stream",
     "text": [
      "[[ 3  5  7]\n",
      " [ 2  4  6]\n",
      " [ 3  6  9]\n",
      " [ 2  8 10]]\n",
      "\n",
      " reshape a...\n",
      " [[[ 3  5]\n",
      "  [ 7  2]\n",
      "  [ 4  6]]\n",
      "\n",
      " [[ 3  6]\n",
      "  [ 9  2]\n",
      "  [ 8 10]]]\n"
     ]
    }
   ],
   "source": [
    "# 7. Import NumPy, use one of the NumPy methods and create an array with a shape of ... (2, 3, 2). \n",
    "# You can use the reshape method -- `.reshape()`\n",
    "\n",
    "\n",
    "import numpy as np\n",
    "\n",
    "a = np.array([[3, 5, 7], [2, 4, 6], [3, 6, 9], [2, 8, 10]])\n",
    "print(a)\n",
    "\n",
    "Newshape = a.reshape(2,3,2)\n",
    "print(\"\\n reshape a...\\n\", Newshape)"
   ]
  },
  {
   "cell_type": "code",
   "execution_count": 18,
   "id": "ae96dec2",
   "metadata": {},
   "outputs": [
    {
     "name": "stdout",
     "output_type": "stream",
     "text": [
      "Array i... [ 0.  4.  8. 12. 16. 20.]\n",
      "Deepcopy [ 0.  4.  8. 12. 16. 20.]\n"
     ]
    }
   ],
   "source": [
    "# 8. Use NumPy `.linspace()` to create an array with 6 linearly spaced values between 0 and 20\n",
    "\n",
    "import numpy as np\n",
    "i = np.linspace(0, 20, num=6)\n",
    "print(\"Array i...\", i)\n",
    "\n",
    "\n",
    "# 9. Make a Deep Copy of the above array\n",
    "\n",
    "import copy \n",
    "\n",
    "dc = copy.deepcopy(i)\n",
    "print(\"Deepcopy\", dc)"
   ]
  },
  {
   "cell_type": "code",
   "execution_count": 20,
   "id": "97b3bcd2",
   "metadata": {},
   "outputs": [
    {
     "name": "stdout",
     "output_type": "stream",
     "text": [
      "Print new array [[25 16]\n",
      " [11  2]\n",
      " [13  4]\n",
      " [ 7 81]\n",
      " [ 5  6]\n",
      " [11 12]]\n"
     ]
    }
   ],
   "source": [
    "# 11. Concatenate these 3 arrays into a new array named 'newArray'...\n",
    "#     ```python\n",
    "\n",
    "import numpy as np \n",
    "\n",
    "a =  ([[25, 16]])           \n",
    "b =  ([[11, 2], [13, 4]])\n",
    "c =  ([[7, 81], [5, 6], [11, 12]])\n",
    "            \n",
    "newArray = np.concatenate((a,b,c))\n",
    "print(\"Print new array\", newArray)"
   ]
  },
  {
   "cell_type": "code",
   "execution_count": 52,
   "id": "356f669c",
   "metadata": {},
   "outputs": [
    {
     "name": "stdout",
     "output_type": "stream",
     "text": [
      "Print new array [[25 16]\n",
      " [11  2]\n",
      " [13  4]\n",
      " [ 7 81]\n",
      " [ 5  6]\n",
      " [11 12]]\n",
      "n\\SA sorted....\n",
      " [[16 25]\n",
      " [ 2 11]\n",
      " [ 4 13]\n",
      " [ 7 81]\n",
      " [ 5  6]\n",
      " [11 12]]\n",
      "2\n"
     ]
    }
   ],
   "source": [
    "# 12. Sort 'newArray' in order into 'sortedArray'\n",
    "\n",
    "import numpy as np \n",
    "\n",
    "a =  ([[25, 16]])           \n",
    "b =  ([[11, 2], [13, 4]])\n",
    "c =  ([[7, 81], [5, 6], [11, 12]])\n",
    "            \n",
    "newArray = np.concatenate((a,b,c))\n",
    "print(\"Print new array\", newArray)\n",
    "\n",
    "SA = np.sort(newArray)\n",
    "print(\"n\\SA sorted....\\n\", SA)\n",
    "\n",
    "print(SA.ndim)"
   ]
  },
  {
   "cell_type": "code",
   "execution_count": 70,
   "id": "490742ea",
   "metadata": {},
   "outputs": [
    {
     "name": "stdout",
     "output_type": "stream",
     "text": [
      "n\\SA sorted....\n",
      " [[16 25]\n",
      " [ 2 11]\n",
      " [ 4 13]\n",
      " [ 7 81]\n",
      " [ 5  6]\n",
      " [11 12]]\n",
      "\n",
      "reshaped array...\n",
      " [[[16 25  2]\n",
      "  [11  4 13]]\n",
      "\n",
      " [[ 7 81  5]\n",
      "  [ 6 11 12]]]\n",
      "s = [[16, 25, 2]]\n",
      "a = [11, 4, 13]\n",
      "v = [7, 81, 5]\n",
      "y = [6, 11, 12]\n",
      "The data type of B <class 'tuple'>\n"
     ]
    }
   ],
   "source": [
    "# 13. Reshape the 'sortedArray' array, into a new array called 'reshapedArray',\n",
    "# so it has 2 dimensions with a size of 2, 3.\n",
    "\n",
    "import numpy as np\n",
    "SA = np.sort(newArray)\n",
    "print(\"n\\SA sorted....\\n\", SA)\n",
    "\n",
    "reshapedArray = SA.reshape(2,2,3)\n",
    "print(\"\\nreshaped array...\\n\", reshapedArray)\n",
    "\n",
    "\n",
    "# 14. Unpack the array tuples from the above 'reshapedArray'  into 4 well named variables. Print the 4 variables.,\n",
    "\n",
    "\n",
    "\n",
    "B = ([ [16, 25, 2]],\n",
    "     [11, 4, 13],\n",
    "     [7, 81,  5],\n",
    "     [6, 11, 12])\n",
    "    \n",
    "s, a, v, y = B\n",
    "print(\"s =\", s)\n",
    "print(\"a =\", a)\n",
    "print(\"v =\", v)\n",
    "print(\"y =\", y)\n",
    "print(\"The data type of B\", type(B))\n",
    "\n",
    "    "
   ]
  },
  {
   "cell_type": "code",
   "execution_count": 8,
   "id": "00eb7dda",
   "metadata": {},
   "outputs": [
    {
     "name": "stdout",
     "output_type": "stream",
     "text": [
      "Print new array [10 11 12 13 14 15 16 17 20 21 22 23 24 25 26 27  0  1  2  3  4  5  6  7]\n",
      "n\\SA sorted....\n",
      " [ 0  1  2  3  4  5  6  7 10 11 12 13 14 15 16 17 20 21 22 23 24 25 26 27]\n"
     ]
    }
   ],
   "source": [
    "# 15. Combined and sort the following arrays into one called 'comboArray' ...\n",
    "\n",
    "import numpy as np \n",
    "\n",
    "one = ([10, 11, 12, 13, 14, 15, 16, 17])\n",
    "two = ([20, 21, 22, 23, 24, 25, 26, 27])\n",
    "three = ([ 0, 1, 2, 3, 4, 5, 6, 7])\n",
    "        \n",
    "comboArray = np.concatenate((one, two, three))\n",
    "print(\"Print new array\", comboArray)\n",
    "\n",
    "CA = np.sort(comboArray)\n",
    "print(\"n\\SA sorted....\\n\", CA)\n",
    "\n",
    "        "
   ]
  },
  {
   "cell_type": "code",
   "execution_count": 6,
   "id": "8d6b3930",
   "metadata": {},
   "outputs": [
    {
     "ename": "SyntaxError",
     "evalue": "invalid syntax (4011566757.py, line 41)",
     "output_type": "error",
     "traceback": [
      "\u001b[1;36m  Cell \u001b[1;32mIn[6], line 41\u001b[1;36m\u001b[0m\n\u001b[1;33m    while == 2:\u001b[0m\n\u001b[1;37m          ^\u001b[0m\n\u001b[1;31mSyntaxError\u001b[0m\u001b[1;31m:\u001b[0m invalid syntax\n"
     ]
    }
   ],
   "source": [
    "# 16. Take 'comboArray' and perform the following slicing activities:\n",
    "\n",
    "import numpy as np \n",
    "\n",
    "one = ([10, 11, 12, 13, 14, 15, 16, 17])\n",
    "two = ([20, 21, 22, 23, 24, 25, 26, 27])\n",
    "three = ([ 0, 1, 2, 3, 4, 5, 6, 7])\n",
    "        \n",
    "comboArray = np.concatenate((one, two, three))\n",
    "print(\"Print new array\", comboArray)\n",
    "\n",
    "\n",
    "#     - print sec1 - the 2nd element \n",
    "\n",
    "comboArray = np.concatenate((one, two, three))\n",
    "print(\"Sec1- 2nd Element is..\", comboArray[2])\n",
    "        \n",
    "#print sec2 - all elements from the 3rd element to the last\n",
    "\n",
    "comboArray = np.concatenate((one, two, three))\n",
    "print(\"Sec2- Elements 3rd to last are..\", comboArray[3:-1])\n",
    "\n",
    "#print sec3 - all elements from the 4th to the 14th elements\n",
    "comboArray = np.concatenate((one, two, three))\n",
    "print(\"Sec3- Elements 4th to 14th are..\", comboArray[4:14])\n",
    "\n",
    "#print sec4 - the last 6 elements\n",
    "comboArray = np.concatenate((one, two, three))\n",
    "print(\"Sec4- last 6 Elements are..\", comboArray[-7:-1])\n",
    "\n",
    "\n",
    "#     - print sec5 - all element from #0 up to and including #15, using the negative number method, i.e. taking a section from the end.\n",
    "comboArray = np.concatenate((one, two, three))\n",
    "print(\"Sec5 elements from #0 up to and including #15 are..\", comboArray[0:-7])\n",
    "\n",
    "\n",
    "#     - print sec6 - from #20 every even element to the end\n",
    "\n",
    "ca = [13, 14, 15, 16, 17, 20, 21, 22, 23, 24, 25, 26, 27,  0,  1,  2,  3,  4,  5,  6,  7]\n",
    "i=[5]\n",
    "while == 2:\n",
    "    if ( i % 2==0):\n",
    "        print (i, end=', ')\n",
    "    i+=1\n",
    "\n",
    "                                         \n",
    "# print(\"Sec5 elements from #0 up to and including #15 are..\", comboArray[0:-7])\n",
    "\n",
    "comboArray = np.concatenate((one, two, three))\n",
    "print(\"Sec2- Elements 3rd to last are..\", comboArray[0:-7])\n",
    "\n",
    "#     - print sec7 - from the last element moving forward, every 5th element."
   ]
  },
  {
   "cell_type": "code",
   "execution_count": null,
   "id": "eb69aebe",
   "metadata": {},
   "outputs": [],
   "source": []
  },
  {
   "cell_type": "code",
   "execution_count": null,
   "id": "bbf4d634",
   "metadata": {},
   "outputs": [],
   "source": []
  }
 ],
 "metadata": {
  "kernelspec": {
   "display_name": "Python 3 (ipykernel)",
   "language": "python",
   "name": "python3"
  },
  "language_info": {
   "codemirror_mode": {
    "name": "ipython",
    "version": 3
   },
   "file_extension": ".py",
   "mimetype": "text/x-python",
   "name": "python",
   "nbconvert_exporter": "python",
   "pygments_lexer": "ipython3",
   "version": "3.11.3"
  }
 },
 "nbformat": 4,
 "nbformat_minor": 5
}
