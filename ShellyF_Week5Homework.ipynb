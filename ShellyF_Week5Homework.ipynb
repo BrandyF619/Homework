{
 "cells": [
  {
   "cell_type": "code",
   "execution_count": 13,
   "id": "cc84910e",
   "metadata": {},
   "outputs": [
    {
     "name": "stdout",
     "output_type": "stream",
     "text": [
      "[[ 3  5  7]\n",
      " [ 2  4  6]\n",
      " [ 3  6  9]\n",
      " [ 2  8 10]]\n",
      "\n",
      " reshape a...\n",
      " [[[ 3  5]\n",
      "  [ 7  2]\n",
      "  [ 4  6]]\n",
      "\n",
      " [[ 3  6]\n",
      "  [ 9  2]\n",
      "  [ 8 10]]]\n"
     ]
    }
   ],
   "source": [
    "# 7. Import NumPy, use one of the NumPy methods and create an array with a shape of ... (2, 3, 2). \n",
    "# You can use the reshape method -- `.reshape()`\n",
    "\n",
    "\n",
    "import numpy as np\n",
    "\n",
    "a = np.array([[3, 5, 7], [2, 4, 6], [3, 6, 9], [2, 8, 10]])\n",
    "print(a)\n",
    "\n",
    "Newshape = a.reshape(2,3,2)\n",
    "print(\"\\n reshape a...\\n\", Newshape)"
   ]
  },
  {
   "cell_type": "code",
   "execution_count": 18,
   "id": "0d796bd1",
   "metadata": {},
   "outputs": [
    {
     "name": "stdout",
     "output_type": "stream",
     "text": [
      "Array i... [ 0.  4.  8. 12. 16. 20.]\n",
      "Deepcopy [ 0.  4.  8. 12. 16. 20.]\n"
     ]
    }
   ],
   "source": [
    "# 8. Use NumPy `.linspace()` to create an array with 6 linearly spaced values between 0 and 20\n",
    "\n",
    "import numpy as np\n",
    "i = np.linspace(0, 20, num=6)\n",
    "print(\"Array i...\", i)\n",
    "\n",
    "\n",
    "# 9. Make a Deep Copy of the above array\n",
    "\n",
    "import copy \n",
    "\n",
    "dc = copy.deepcopy(i)\n",
    "print(\"Deepcopy\", dc)"
   ]
  },
  {
   "cell_type": "code",
   "execution_count": 20,
   "id": "ad1fe836",
   "metadata": {},
   "outputs": [
    {
     "name": "stdout",
     "output_type": "stream",
     "text": [
      "Print new array [[25 16]\n",
      " [11  2]\n",
      " [13  4]\n",
      " [ 7 81]\n",
      " [ 5  6]\n",
      " [11 12]]\n"
     ]
    }
   ],
   "source": [
    "# 11. Concatenate these 3 arrays into a new array named 'newArray'...\n",
    "#     ```python\n",
    "\n",
    "import numpy as np \n",
    "\n",
    "a =  ([[25, 16]])           \n",
    "b =  ([[11, 2], [13, 4]])\n",
    "c =  ([[7, 81], [5, 6], [11, 12]])\n",
    "            \n",
    "newArray = np.concatenate((a,b,c))\n",
    "print(\"Print new array\", newArray)"
   ]
  },
  {
   "cell_type": "code",
   "execution_count": 52,
   "id": "0a9d0fda",
   "metadata": {},
   "outputs": [
    {
     "name": "stdout",
     "output_type": "stream",
     "text": [
      "Print new array [[25 16]\n",
      " [11  2]\n",
      " [13  4]\n",
      " [ 7 81]\n",
      " [ 5  6]\n",
      " [11 12]]\n",
      "n\\SA sorted....\n",
      " [[16 25]\n",
      " [ 2 11]\n",
      " [ 4 13]\n",
      " [ 7 81]\n",
      " [ 5  6]\n",
      " [11 12]]\n",
      "2\n"
     ]
    }
   ],
   "source": [
    "# 12. Sort 'newArray' in order into 'sortedArray'\n",
    "\n",
    "import numpy as np \n",
    "\n",
    "a =  ([[25, 16]])           \n",
    "b =  ([[11, 2], [13, 4]])\n",
    "c =  ([[7, 81], [5, 6], [11, 12]])\n",
    "            \n",
    "newArray = np.concatenate((a,b,c))\n",
    "print(\"Print new array\", newArray)\n",
    "\n",
    "SA = np.sort(newArray)\n",
    "print(\"n\\SA sorted....\\n\", SA)\n",
    "\n",
    "print(SA.ndim)"
   ]
  },
  {
   "cell_type": "code",
   "execution_count": 70,
   "id": "2d740f62",
   "metadata": {},
   "outputs": [
    {
     "name": "stdout",
     "output_type": "stream",
     "text": [
      "n\\SA sorted....\n",
      " [[16 25]\n",
      " [ 2 11]\n",
      " [ 4 13]\n",
      " [ 7 81]\n",
      " [ 5  6]\n",
      " [11 12]]\n",
      "\n",
      "reshaped array...\n",
      " [[[16 25  2]\n",
      "  [11  4 13]]\n",
      "\n",
      " [[ 7 81  5]\n",
      "  [ 6 11 12]]]\n",
      "s = [[16, 25, 2]]\n",
      "a = [11, 4, 13]\n",
      "v = [7, 81, 5]\n",
      "y = [6, 11, 12]\n",
      "The data type of B <class 'tuple'>\n"
     ]
    }
   ],
   "source": [
    "# 13. Reshape the 'sortedArray' array, into a new array called 'reshapedArray',\n",
    "# so it has 2 dimensions with a size of 2, 3.\n",
    "\n",
    "import numpy as np\n",
    "SA = np.sort(newArray)\n",
    "print(\"n\\SA sorted....\\n\", SA)\n",
    "\n",
    "reshapedArray = SA.reshape(2,2,3)\n",
    "print(\"\\nreshaped array...\\n\", reshapedArray)\n",
    "\n",
    "\n",
    "# 14. Unpack the array tuples from the above 'reshapedArray'  into 4 well named variables. Print the 4 variables.,\n",
    "\n",
    "\n",
    "\n",
    "B = ([ [16, 25, 2]],\n",
    "     [11, 4, 13],\n",
    "     [7, 81,  5],\n",
    "     [6, 11, 12])\n",
    "    \n",
    "s, a, v, y = B\n",
    "print(\"s =\", s)\n",
    "print(\"a =\", a)\n",
    "print(\"v =\", v)\n",
    "print(\"y =\", y)\n",
    "print(\"The data type of B\", type(B))\n",
    "\n",
    "    "
   ]
  },
  {
   "cell_type": "code",
   "execution_count": 8,
   "id": "2c77554d",
   "metadata": {},
   "outputs": [
    {
     "name": "stdout",
     "output_type": "stream",
     "text": [
      "Print new array [10 11 12 13 14 15 16 17 20 21 22 23 24 25 26 27  0  1  2  3  4  5  6  7]\n",
      "n\\SA sorted....\n",
      " [ 0  1  2  3  4  5  6  7 10 11 12 13 14 15 16 17 20 21 22 23 24 25 26 27]\n"
     ]
    }
   ],
   "source": [
    "# 15. Combined and sort the following arrays into one called 'comboArray' ...\n",
    "\n",
    "import numpy as np \n",
    "\n",
    "one = ([10, 11, 12, 13, 14, 15, 16, 17])\n",
    "two = ([20, 21, 22, 23, 24, 25, 26, 27])\n",
    "three = ([ 0, 1, 2, 3, 4, 5, 6, 7])\n",
    "        \n",
    "comboArray = np.concatenate((one, two, three))\n",
    "print(\"Print new array\", comboArray)\n",
    "\n",
    "CA = np.sort(comboArray)\n",
    "print(\"n\\SA sorted....\\n\", CA)\n",
    "\n",
    "        "
   ]
  },
  {
   "cell_type": "code",
   "execution_count": 15,
   "id": "8aefcde3",
   "metadata": {},
   "outputs": [
    {
     "name": "stdout",
     "output_type": "stream",
     "text": [
      "Print new array [10 11 12 13 14 15 16 17 20 21 22 23 24 25 26 27  0  1  2  3  4  5  6  7]\n",
      "Sec1- 2nd Element is.. 12\n",
      "Sec2- Elements 3rd to last are.. [13 14 15 16 17 20 21 22 23 24 25 26 27  0  1  2  3  4  5  6]\n",
      "Sec3- Elements 4th to 14th are.. [14 15 16 17 20 21 22 23 24 25]\n",
      "Sec4- last 6 Elements are.. [1 2 3 4 5 6]\n",
      "Sec5 elements from #0 up to and including #15 are.. [10 11 12 13 14 15 16 17 20 21 22 23 24 25 26 27  0]\n",
      "Sec6 elements from #20 every even element to the end.. [20 22 24 26  0  2  4  6]\n",
      "Sec7 from the last element moving forward, every 5th element... [10 15 22 27  4]\n"
     ]
    }
   ],
   "source": [
    "# 16. Take 'comboArray' and perform the following slicing activities:\n",
    "\n",
    "import numpy as np \n",
    "\n",
    "one = ([10, 11, 12, 13, 14, 15, 16, 17])\n",
    "two = ([20, 21, 22, 23, 24, 25, 26, 27])\n",
    "three = ([ 0, 1, 2, 3, 4, 5, 6, 7])\n",
    "        \n",
    "comboArray = np.concatenate((one, two, three))\n",
    "print(\"Print new array\", comboArray)\n",
    "\n",
    "\n",
    "#     - print sec1 - the 2nd element \n",
    "\n",
    "comboArray = np.concatenate((one, two, three))\n",
    "print(\"Sec1- 2nd Element is..\", comboArray[2])\n",
    "        \n",
    "#print sec2 - all elements from the 3rd element to the last\n",
    "print(\"Sec2- Elements 3rd to last are..\", comboArray[3:-1])\n",
    "\n",
    "#print sec3 - all elements from the 4th to the 14th elements\n",
    "print(\"Sec3- Elements 4th to 14th are..\", comboArray[4:14])\n",
    "\n",
    "#print sec4 - the last 6 elements\n",
    "print(\"Sec4- last 6 Elements are..\", comboArray[-7:-1])\n",
    "\n",
    "\n",
    "#     - print sec5 - all element from #0 up to and including #15, using the negative number method, i.e. taking a section from the end.\n",
    "print(\"Sec5 elements from #0 up to and including #15 are..\", comboArray[0:-7])\n",
    "\n",
    "\n",
    "#     - print sec6 - from #20 every even element to the end\n",
    "print(\"Sec6 elements from #20 every even element to the end..\", comboArray[-16::2])\n",
    "\n",
    "#    - print sec7 - from the last element moving forward, every 5th element.\n",
    "print(\"Sec7 from the last element moving forward, every 5th element...\", comboArray[:-1:5])"
   ]
  },
  {
   "cell_type": "code",
   "execution_count": 16,
   "id": "3fb5e978",
   "metadata": {},
   "outputs": [
    {
     "name": "stdout",
     "output_type": "stream",
     "text": [
      "  Ingredients  Quantity   Unit\n",
      "0       Flour         4   cups\n",
      "1        Milk         1    cup\n",
      "2        Eggs         2  large\n",
      "3        Spam         1    can\n",
      "Name: Dinner, dtype: object\n"
     ]
    }
   ],
   "source": [
    "\n",
    "# 20. Using `Series`, create a `DataFrame` that looks like this:\n",
    "\n",
    "#     | Ingredients | Quantity | Unit |\n",
    "#     |----|----|----|\n",
    "#     | Flour | 4 | cups |\n",
    "#     | Milk | 1 | cup |\n",
    "#     | Eggs | 2 | large |\n",
    "#     | Spam | 1 | can |\n",
    "\n",
    "#     Name: Dinner, dtype: object\n",
    "            \n",
    "    \n",
    "    \n",
    "import pandas as pd\n",
    "    \n",
    "Ingredients = pd.Series([\"Flour\", \"Milk\", \"Eggs\", \"Spam\"], name = 'Ingredients')\n",
    "Quantity = pd.Series([4,1,2,1], name = 'Quantity')\n",
    "Unit = pd.Series([\"cups\", \"cup\", \"large\", \"can\"], name = 'Unit')\n",
    "    \n",
    "df = pd.concat([Ingredients,Quantity,Unit], axis=1)\n",
    "print(df)\n",
    "print(\"Name: Dinner, dtype: object\")\n",
    "\n",
    "            "
   ]
  },
  {
   "cell_type": "code",
   "execution_count": 17,
   "id": "166f0282",
   "metadata": {},
   "outputs": [
    {
     "name": "stdout",
     "output_type": "stream",
     "text": [
      "  Students  Height Qualification  address  age        pets           sport\n",
      "0      Jai     5.1           Msc    Delhi   21         Dog           Darts\n",
      "1  janusha     6.2            MA     Doha   23       Bunny      Basketball\n",
      "2   Gaurav     5.1           Msc  Chennai   24  Chinchilla  PaddleBoarding\n",
      "3     Anuj     5.2           Msc   Dakhar   21      Parrot         Cricket\n",
      "Name: StudentData, dtype: object\n"
     ]
    }
   ],
   "source": [
    "# 21. Take this data and create a DataFrame named studentData\n",
    "#     ```Python\n",
    "#         {'Name': ['Jai', 'janusha', 'Gaurav', 'Anuj'],\n",
    "#             'Height': [5.1, 6.2, 5.1, 5.2],\n",
    "#             'Qualification': ['Msc', 'MA', 'Msc', 'Msc'],\n",
    "#             'address': ['Delhi', 'Doha', 'Chennai', 'Dakhar'],\n",
    "#             'Age': [21, 23, 24, 21],\n",
    "#             'Pets': ['Dog', 'Bunny', 'Chinchilla', 'Parrot'],\n",
    "#             'sport': ['Darts', 'Basketball', 'PaddleBoarding', 'Cricket']\n",
    "#         }\n",
    "#     ```\n",
    "\n",
    "import pandas as pd\n",
    "    \n",
    "Student_Name = pd.Series(['Jai', 'janusha', 'Gaurav', 'Anuj'], name = 'Students')\n",
    "Height = pd.Series([5.1, 6.2, 5.1, 5.2], name = 'Height')\n",
    "Qualification = pd.Series(['Msc', 'MA', 'Msc', 'Msc'], name = 'Qualification')\n",
    "address = pd.Series(['Delhi', 'Doha', 'Chennai', 'Dakhar'], name = 'address')\n",
    "Age = pd.Series([21, 23, 24, 21], name = 'age')\n",
    "Pets = pd.Series(['Dog', 'Bunny', 'Chinchilla', 'Parrot'], name = 'pets')   \n",
    "sport = pd.Series(['Darts', 'Basketball', 'PaddleBoarding', 'Cricket'], name = 'sport')   \n",
    "\n",
    "df = pd.concat([Student_Name,Height,Qualification,address,Age,Pets,sport], axis=1)\n",
    "print(df)\n",
    "print(\"Name: StudentData, dtype: object\")\n",
    "\n"
   ]
  },
  {
   "cell_type": "code",
   "execution_count": 8,
   "id": "0f8cb67b",
   "metadata": {},
   "outputs": [
    {
     "name": "stdout",
     "output_type": "stream",
     "text": [
      "  Students  Height Qualification  address  age        pets           sport   \n",
      "0      Jai     5.1           Msc    Delhi   21         Dog           Darts  \\\n",
      "1  janusha     6.2            MA     Doha   23       Bunny      Basketball   \n",
      "2   Gaurav     5.1           Msc  Chennai   24  Chinchilla  PaddleBoarding   \n",
      "3     Anuj     5.2           Msc   Dakhar   21      Parrot         Cricket   \n",
      "\n",
      "         desert  \n",
      "0     ice_cream  \n",
      "1  Cashew_Fudge  \n",
      "2       waffels  \n",
      "3  Carrot_Halwa  \n",
      "Name: StudentData, dtype: object\n"
     ]
    }
   ],
   "source": [
    "# 22. Add a new column to the DataFrame with the following deserts:\n",
    "#         [\"ice cream\", \"Cashew Fudge\", \"waffels\", \"Carrot Halwa\"]\n",
    "\n",
    "#     ```\n",
    "\n",
    "import pandas as pd\n",
    "    \n",
    "Students = pd.Series(['Jai', 'janusha', 'Gaurav', 'Anuj'], name = 'Students')\n",
    "Height = pd.Series([5.1, 6.2, 5.1, 5.2], name = 'Height')\n",
    "Qualification = pd.Series(['Msc', 'MA', 'Msc', 'Msc'], name = 'Qualification')\n",
    "address = pd.Series(['Delhi', 'Doha', 'Chennai', 'Dakhar'], name = 'address')\n",
    "Age = pd.Series([21, 23, 24, 21], name = 'age')\n",
    "Pets = pd.Series(['Dog', 'Bunny', 'Chinchilla', 'Parrot'], name = 'pets')   \n",
    "sport = pd.Series(['Darts', 'Basketball', 'PaddleBoarding', 'Cricket'], name = 'sport')   \n",
    "desert = pd.Series([\"ice_cream\", \"Cashew_Fudge\", \"waffels\", \"Carrot_Halwa\"], name = 'desert')\n",
    "\n",
    "df = pd.concat([Students,Height,Qualification,address,Age,Pets,sport,desert], axis=1)\n",
    "print(df)\n",
    "print(\"Name: StudentData, dtype: object\")"
   ]
  },
  {
   "cell_type": "code",
   "execution_count": 24,
   "id": "26c104ef",
   "metadata": {},
   "outputs": [
    {
     "name": "stdout",
     "output_type": "stream",
     "text": [
      "  Students  Height Qualification  address  age        pets           sport   \n",
      "3     Anuj     5.2           Msc   Dakhar   21      Parrot         Cricket  \\\n",
      "2   Gaurav     5.1           Msc  Chennai   24  Chinchilla  PaddleBoarding   \n",
      "0      Jai     5.1           Msc    Delhi   21         Dog           Darts   \n",
      "1  janusha     6.2            MA     Doha   23       Bunny      Basketball   \n",
      "\n",
      "         desert  \n",
      "3  Carrot_Halwa  \n",
      "2       waffels  \n",
      "0     ice_cream  \n",
      "1  Cashew_Fudge   <built-in function sorted>\n"
     ]
    }
   ],
   "source": [
    "# 23. Sort the 'studentData' DataFrame in Ascending order -- Sorting by column 'Name' and then \"address\"\n",
    "\n",
    "import pandas as pd\n",
    "\n",
    "df = pd.concat([Students,Height,Qualification,address,Age,Pets,sport,desert], axis=1)\n",
    "\n",
    "Sorted_df = df.sort_values(['Students', 'address'])\n",
    "                    \n",
    "print(Sorted_df, sorted)\n"
   ]
  },
  {
   "cell_type": "code",
   "execution_count": 27,
   "id": "22b3db5c",
   "metadata": {},
   "outputs": [],
   "source": [
    "# 24. Save this `DataFrame` here below to disc as a `.CSV` file with the name `cows_and_goats.csv`:\n",
    "\n",
    "#     ```python\n",
    "#         df = pd.DataFrame({'Cows': [12, 20], 'Goats': [22, 19]}, index=['Year 1', 'Year 2'])\n",
    "\n",
    "import pandas as pd\n",
    "import numpy as np\n",
    "\n",
    "df = pd.DataFrame({'Cows': [12, 20], 'Goats': [22, 19]}, index=['Year 1', 'Year 2'])\n",
    "df.to_csv(r'cows_and_goats.csv', sep='\\t', encoding='utf-8')"
   ]
  },
  {
   "cell_type": "code",
   "execution_count": 30,
   "id": "3ad5365f",
   "metadata": {},
   "outputs": [
    {
     "name": "stdout",
     "output_type": "stream",
     "text": [
      "   Vegetable   Color   grain\n",
      "0  Asparagus   green    rice\n",
      "1   Eggplant  purple   pasta\n",
      "2     Tomato     red  quinoa\n",
      "   Vegetable   Color   grain\n",
      "1   Eggplant  purple   pasta\n",
      "2     Tomato     red  quinoa\n",
      "0  Asparagus   green    rice\n"
     ]
    }
   ],
   "source": [
    "# 25. (A) Using Pandas, make your own .CSV file with data on vegetables and save it. \n",
    "\n",
    "import pandas as pd\n",
    "import numpy as np\n",
    "\n",
    "df = pd.DataFrame( {'Vegetable': ['Asparagus', 'Eggplant', 'Tomato'],\n",
    "      'Color': ['green', 'purple', 'red'],\n",
    "      'grain': ['rice', 'pasta', 'quinoa']})\n",
    "       \n",
    "\n",
    "print(df)\n",
    "df.to_csv(r'myveggies.csv', sep='\\t', encoding='utf-8')\n",
    "\n",
    "\n",
    "# (B) Using Pandas, make a change to your CSV file:\n",
    "\n",
    "import pandas as pd\n",
    "\n",
    "New = df.sort_values(['grain'])\n",
    "print(New)               \n",
    "\n",
    "# save a copy with a different name.\n",
    "      \n",
    "df.to_csv(r'Sortedmygrains.csv', sep='\\t', encoding='utf-8')                     "
   ]
  },
  {
   "cell_type": "code",
   "execution_count": null,
   "id": "3ce38e00",
   "metadata": {},
   "outputs": [],
   "source": []
  }
 ],
 "metadata": {
  "kernelspec": {
   "display_name": "Python 3 (ipykernel)",
   "language": "python",
   "name": "python3"
  },
  "language_info": {
   "codemirror_mode": {
    "name": "ipython",
    "version": 3
   },
   "file_extension": ".py",
   "mimetype": "text/x-python",
   "name": "python",
   "nbconvert_exporter": "python",
   "pygments_lexer": "ipython3",
   "version": "3.11.3"
  }
 },
 "nbformat": 4,
 "nbformat_minor": 5
}
