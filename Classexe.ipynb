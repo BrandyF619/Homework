{
 "cells": [
  {
   "cell_type": "code",
   "execution_count": 27,
   "metadata": {},
   "outputs": [
    {
     "name": "stdout",
     "output_type": "stream",
     "text": [
      "min is 3\n",
      "min is 3\n",
      "min is 3\n",
      "min is 3\n",
      "min is 3\n",
      "Max number 10\n"
     ]
    }
   ],
   "source": [
    "4\n",
    "\n",
    "# Question 2\n",
    "# Write a function that takes in integers and returns the integer with the highest value. (Do NOT use Math.max()!!!)\n",
    "\n",
    "# Example: findHighest(5, 8, 1) // --> 8 findHighest([4, 1, -3]) // --> 4 Take note of the argument data type options.\n",
    "\n",
    "# is this a tuple or list?\n",
    "\n",
    "input(\"what is your number\")\n",
    "\n",
    "max = 10\n",
    "min = 3\n",
    "\n",
    "My_List = [3, 5, 6, 8, 7, 10]\n",
    "for max in My_List:\n",
    "    if max >= 10:\n",
    "          print(\"Max number\", max)\n",
    "    else:\n",
    "        min in My_List == 0\n",
    "        print(\"min is\", min)\n"
   ]
  },
  {
   "cell_type": "code",
   "execution_count": 69,
   "metadata": {},
   "outputs": [
    {
     "name": "stdout",
     "output_type": "stream",
     "text": [
      "Number is Less than :5 4\n"
     ]
    }
   ],
   "source": [
    "\n",
    "import random\n",
    "\n",
    "input(\"Whats your fav number between 1-50?\") \n",
    "\n",
    "\n",
    "def diceroll():\n",
    "    dice = random.randint(1,10)\n",
    "    if dice >= 5:\n",
    "        print(\"Number is greater than 5:\", dice)\n",
    "    else: \n",
    "        print(\"Number is Less than :5\", dice)\n",
    "diceroll()"
   ]
  }
 ],
 "metadata": {
  "kernelspec": {
   "display_name": "Python 3",
   "language": "python",
   "name": "python3"
  },
  "language_info": {
   "codemirror_mode": {
    "name": "ipython",
    "version": 3
   },
   "file_extension": ".py",
   "mimetype": "text/x-python",
   "name": "python",
   "nbconvert_exporter": "python",
   "pygments_lexer": "ipython3",
   "version": "3.11.3"
  },
  "orig_nbformat": 4
 },
 "nbformat": 4,
 "nbformat_minor": 2
}
